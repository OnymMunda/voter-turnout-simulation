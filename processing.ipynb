{
 "cells": [
  {
   "cell_type": "code",
   "execution_count": null,
   "id": "be1a28a6",
   "metadata": {},
   "outputs": [
    {
     "name": "stdout",
     "output_type": "stream",
     "text": [
      "          city   sex age_group  population\n",
      "0       manila  male       0-4       87422\n",
      "1  mandaluyong  male       0-4       19973\n",
      "2     marikina  male       0-4       21808\n",
      "3        pasig  male       0-4       41784\n",
      "4  quezon city  male       0-4      150043\n"
     ]
    }
   ],
   "source": [
    "import pandas as pd\n",
    "\n",
    "df = pd.read_csv(\"data/demographic_raw.csv\")\n",
    "\n",
    "melted = df.melt(\n",
    "    id_vars=[\"city\"],\n",
    "    var_name=\"category\",\n",
    "    value_name=\"population\"\n",
    ")\n",
    "\n",
    "melted['sex'] = melted['category'].apply(lambda x: 'male' if x.startswith('Male') else 'female')\n",
    "melted['age_group'] = melted['category'].str.extract(r'(?:Male|Female) (.*)')[0]\n",
    "\n",
    "age_mapping = {\n",
    "    'Below 5': '0-4',\n",
    "    '5-9': '5-9',\n",
    "    '10-14': '10-14',\n",
    "    '15-19': '15-19',\n",
    "    '20-24': '20-24',\n",
    "    '25-29': '25-29',\n",
    "    '30-34': '30-34',\n",
    "    '35-39': '35-39',\n",
    "    '40-44': '40-44',\n",
    "    '45-49': '45-49',\n",
    "    '50-54': '50-54',\n",
    "    '55-59': '55-59',\n",
    "    '60-64': '60-64',\n",
    "    '65-69': '65-69',\n",
    "    '70-74': '70-74',\n",
    "    '75-79': '75-79',\n",
    "    '80 years old and over': '80+'\n",
    "}\n",
    "melted['age_group'] = melted['age_group'].map(age_mapping)\n",
    "\n",
    "result = melted[['city', 'sex', 'age_group', 'population']]\n",
    "\n",
    "result = result.dropna()\n",
    "\n",
    "result.to_csv(\"demographic.csv\", index=False)\n",
    "\n",
    "print(result.head())"
   ]
  }
 ],
 "metadata": {
  "kernelspec": {
   "display_name": "consunji_beaux",
   "language": "python",
   "name": "python3"
  },
  "language_info": {
   "codemirror_mode": {
    "name": "ipython",
    "version": 3
   },
   "file_extension": ".py",
   "mimetype": "text/x-python",
   "name": "python",
   "nbconvert_exporter": "python",
   "pygments_lexer": "ipython3",
   "version": "3.10.13"
  }
 },
 "nbformat": 4,
 "nbformat_minor": 5
}
